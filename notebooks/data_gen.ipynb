{
 "cells": [
  {
   "cell_type": "code",
   "execution_count": 1,
   "metadata": {
    "collapsed": true,
    "ExecuteTime": {
     "end_time": "2025-05-05T02:30:53.607719800Z",
     "start_time": "2025-05-05T02:30:52.919647600Z"
    }
   },
   "outputs": [],
   "source": [
    "from enum import Enum\n",
    "from openai import OpenAI\n",
    "from pydantic import BaseModel, Field"
   ]
  },
  {
   "cell_type": "code",
   "execution_count": 2,
   "outputs": [],
   "source": [
    "class EquipmentEnum(str, Enum):\n",
    "    plate_loaded_shoulder_press = 'plate_loaded_shoulder_press'\n",
    "    plate_loaded_calf_press = 'plate_loaded_calf_press'\n",
    "    machine_calf_press = 'machine_calf_press'\n",
    "    seated_leg_press = 'seated_leg_press'\n",
    "    linear_leg_press_1 = 'linear_leg_press_1'\n",
    "    linear_leg_press_2 = 'linear_leg_press_2'\n",
    "    hack_squat_1 = 'hack_squat_1'\n",
    "    hack_squat_2 = 'hack_squat_2'\n",
    "    machine_leg_extension_1 = 'machine_leg_extension_1'\n",
    "    machine_leg_extension_2 = 'machine_leg_extension_2'\n",
    "    machine_leg_curl_1 = 'machine_leg_curl_1'\n",
    "    machine_leg_curl_2 = 'machine_leg_curl_2'\n",
    "    prone_leg_curl = 'prone_leg_curl'\n",
    "    machine_row_1 = 'machine_row_1'\n",
    "    machine_row_2 = 'machine_row_2'\n",
    "    seated_lat_pulldown = 'seated_lat_pulldown'\n",
    "    cable_lat_pulldown_1 = 'cable_lat_pulldown_1'\n",
    "    cable_lat_pulldown_2 = 'cable_lat_pulldown_2'\n",
    "    hip_adductor = 'hip_adductor'\n",
    "    hip_abductor = 'hip_abductor'\n",
    "    glute_kickback = 'glute_kickback'\n",
    "    machine_shoulder_press = 'machine_shoulder_press'\n",
    "    converging_shoulder_press = 'converging_shoulder_press'\n",
    "    machine_incline_chest_press = 'machine_incline_chest_press'\n",
    "    machine_chest_press = 'machine_chest_press'\n",
    "    chest_fly_delt_1 = 'chest_fly_delt_1'\n",
    "    chest_fly_delt_2 = 'chest_fly_delt_2'\n",
    "    lateral_raise_1 = 'lateral_raise_1'\n",
    "    lateral_raise_2 = 'lateral_raise_2'\n",
    "    tricep_extension_1 = 'tricep_extension_1'\n",
    "    tricep_extension_2 = 'tricep_extension_2'\n",
    "    tricep_pushdown = 'tricep_pushdown'\n",
    "    ab_crunch = 'ab_crunch'\n",
    "    back_extension = 'back_extension'\n",
    "    preacher_curl = 'preacher_curl'\n",
    "\n",
    "\n",
    "class Step(BaseModel):\n",
    "    sequence_number: int\n",
    "    # exercise_name: str\n",
    "    equipment_name: EquipmentEnum\n",
    "    priority_score: int\n",
    "    est_time: int\n",
    "    num_sets: int"
   ],
   "metadata": {
    "collapsed": false,
    "ExecuteTime": {
     "end_time": "2025-05-05T02:30:54.311154800Z",
     "start_time": "2025-05-05T02:30:54.298834Z"
    }
   }
  },
  {
   "cell_type": "code",
   "execution_count": 3,
   "outputs": [],
   "source": [
    "class WorkoutSession(BaseModel):\n",
    "    uuid: str\n",
    "    entry_time: int\n",
    "    steps: list[Step]\n",
    "\n",
    "class DataSet(BaseModel):\n",
    "    length: int\n",
    "    sessions: list[WorkoutSession]\n"
   ],
   "metadata": {
    "collapsed": false,
    "ExecuteTime": {
     "end_time": "2025-05-05T02:30:55.976165800Z",
     "start_time": "2025-05-05T02:30:55.971901900Z"
    }
   }
  },
  {
   "cell_type": "code",
   "execution_count": 4,
   "outputs": [],
   "source": [
    "client = OpenAI()\n",
    "result_list = []"
   ],
   "metadata": {
    "collapsed": false,
    "ExecuteTime": {
     "end_time": "2025-05-05T02:30:58.265400300Z",
     "start_time": "2025-05-05T02:30:58.050994200Z"
    }
   }
  },
  {
   "cell_type": "code",
   "execution_count": 5,
   "outputs": [],
   "source": [
    "\n",
    "\n",
    "response = client.responses.parse(\n",
    "    model=\"gpt-4o-2024-08-06\",\n",
    "    input = [\n",
    "        {\n",
    "            \"role\": \"system\",\n",
    "            \"content\": '''You are a research assistant generating sample data for a simulation.'''\n",
    "        },\n",
    "        {\"role\": \"user\",\n",
    "         \"content\": '''I need you to generate a workout session instance and the steps as part of it.\n",
    "         A workout session represents an overall workout, and a step represents the exercises within that workout. I need you to generate 50 examples.\n",
    "Some rules:\n",
    "1. An exercise cannot be repeated in the same workout session.\n",
    "2. A workout session cannot have more than 8 steps.\n",
    "3. A priority score is between 1 and 50.\n",
    "4. Entry time must be between 1 and 200, with even distribution.'''},\n",
    "    ],\n",
    "    text_format=DataSet,\n",
    ")\n",
    "\n",
    "result_list.append(response.output_parsed)\n"
   ],
   "metadata": {
    "collapsed": false,
    "ExecuteTime": {
     "end_time": "2025-05-05T02:33:26.863491900Z",
     "start_time": "2025-05-05T02:31:01.903008700Z"
    }
   }
  },
  {
   "cell_type": "code",
   "execution_count": 6,
   "outputs": [],
   "source": [
    "result_list = result_list[0].sessions"
   ],
   "metadata": {
    "collapsed": false,
    "ExecuteTime": {
     "end_time": "2025-05-05T02:33:41.907539700Z",
     "start_time": "2025-05-05T02:33:41.897828800Z"
    }
   }
  },
  {
   "cell_type": "code",
   "execution_count": 7,
   "outputs": [],
   "source": [
    "# import json\n",
    "# jdump = result_list[0].model_dump_json()"
   ],
   "metadata": {
    "collapsed": false,
    "ExecuteTime": {
     "end_time": "2025-05-05T02:33:43.190333900Z",
     "start_time": "2025-05-05T02:33:43.173189500Z"
    }
   }
  },
  {
   "cell_type": "code",
   "execution_count": 8,
   "outputs": [],
   "source": [
    "# with open('test_data.json', 'w', encoding='utf-8') as f:\n",
    "#     json.dump(jdump, f, indent=4)"
   ],
   "metadata": {
    "collapsed": false,
    "ExecuteTime": {
     "end_time": "2025-05-05T02:33:43.702470700Z",
     "start_time": "2025-05-05T02:33:43.686588500Z"
    }
   }
  },
  {
   "cell_type": "code",
   "execution_count": 9,
   "outputs": [],
   "source": [
    "import json\n",
    "json_list = []\n",
    "for sesh in result_list:\n",
    "    jdump = sesh.model_dump_json()\n",
    "    json_list.append(jdump)"
   ],
   "metadata": {
    "collapsed": false,
    "ExecuteTime": {
     "end_time": "2025-05-05T02:33:47.653156500Z",
     "start_time": "2025-05-05T02:33:47.642851400Z"
    }
   }
  },
  {
   "cell_type": "code",
   "execution_count": 10,
   "outputs": [],
   "source": [
    "with open('test_data_1.json', 'w', encoding='utf-8') as f:\n",
    "    json.dump(json_list, f, indent=4)\n"
   ],
   "metadata": {
    "collapsed": false,
    "ExecuteTime": {
     "end_time": "2025-05-05T02:33:49.236835600Z",
     "start_time": "2025-05-05T02:33:49.221148200Z"
    }
   }
  },
  {
   "cell_type": "code",
   "execution_count": null,
   "outputs": [],
   "source": [],
   "metadata": {
    "collapsed": false
   }
  }
 ],
 "metadata": {
  "kernelspec": {
   "display_name": "Python 3",
   "language": "python",
   "name": "python3"
  },
  "language_info": {
   "codemirror_mode": {
    "name": "ipython",
    "version": 2
   },
   "file_extension": ".py",
   "mimetype": "text/x-python",
   "name": "python",
   "nbconvert_exporter": "python",
   "pygments_lexer": "ipython2",
   "version": "2.7.6"
  }
 },
 "nbformat": 4,
 "nbformat_minor": 0
}
